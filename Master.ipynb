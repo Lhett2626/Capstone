{
 "cells": [
  {
   "cell_type": "code",
   "execution_count": 1,
   "metadata": {},
   "outputs": [],
   "source": [
    "from sportsipy.ncaab.teams import Teams\n",
    "from sportsipy.ncaab.schedule import Schedule\n",
    "from sportsipy.ncaab.boxscore import Boxscore\n",
    "import pandas as pd\n",
    "import numpy as np\n",
    "import requests\n",
    "from bs4 import BeautifulSoup, Comment\n",
    "from google.cloud import bigquery\n",
    "from google.oauth2 import service_account\n",
    "from pandas.io import gbq\n",
    "import os"
   ]
  },
  {
   "cell_type": "markdown",
   "metadata": {},
   "source": [
    "### Connecting to Google Big Query"
   ]
  },
  {
   "cell_type": "code",
   "execution_count": 2,
   "metadata": {},
   "outputs": [],
   "source": [
    "#GBQ Credentials\n",
    "\n",
    "private_key = service_path + service_file"
   ]
  },
  {
   "cell_type": "code",
   "execution_count": 3,
   "metadata": {},
   "outputs": [],
   "source": [
    "credentials = service_account.Credentials.from_service_account_file(service_path + service_file)"
   ]
  },
  {
   "cell_type": "code",
   "execution_count": 4,
   "metadata": {},
   "outputs": [],
   "source": [
    "client = bigquery.Client(credentials = credentials, project=gbq_proj_id)"
   ]
  },
  {
   "cell_type": "markdown",
   "metadata": {},
   "source": [
    "### Gathering Boxscore indexes for each game and each team.\n",
    "\n",
    "Output: CSV file (schedule_season.csv)"
   ]
  },
  {
   "cell_type": "code",
   "execution_count": null,
   "metadata": {},
   "outputs": [],
   "source": [
    "#gathering teams schedules and appending to a list\n",
    "#goal is to append to dataframe \n",
    "\n",
    "seasons = list(range(2010,2022,1))\n",
    "\n",
    "game_array = []\n",
    "for season in seasons:\n",
    "    teams = Teams(season)\n",
    "    schedule_df = None\n",
    "    for team in teams:\n",
    "\n",
    "        schedule = team.schedule\n",
    "\n",
    "        for game in schedule:\n",
    "            ind_game = game.dataframe\n",
    "            if schedule is not None:\n",
    "                schedule_df = pd.concat([schedule_df,ind_game], axis = 0)\n",
    "            else:\n",
    "                schedule_df = ind_game\n",
    "                print(schedule)\n",
    "\n",
    "\n",
    "    #creating file path and output file\n",
    "    #turing shedules into CSV files\n",
    "    outname = f'{season}.csv'\n",
    "\n",
    "    outdir = './seasons_dfs'\n",
    "    if not os.path.exists(outdir):\n",
    "        os.mkdir(outdir)\n",
    "\n",
    "    fullname = os.path.join(outdir, outname)    \n",
    "\n",
    "    schedule_df.to_csv(fullname)\n",
    "        \n",
    "    table = str(season)\n",
    "        \n",
    "        \n",
    "    #sending schedule files to Google Big Query    \n",
    "    schedule_df.to_gbq(destination_table= 'schedules.'+ table,\n",
    "                        chunksize= 500000,\n",
    "                        project_id= gbq_proj_id,\n",
    "                        if_exists='replace')\n",
    "                \n",
    "    \n",
    "                \n",
    "#                 boxscore = game.boxscore_index\n",
    "#                 date = game.datetime\n",
    "#                 location = game.location\n",
    "#                 opponent_conference = game.opponent_conference\n",
    "#                 opponent_name = game.opponent_name\n",
    "#                 win_streak = game.streak\n",
    "#                 overtimes = game.overtimes\n",
    "#                 reg_season = game.type\n",
    "#                 game_array.append([season, date, team.name,boxscore, location, opponent_conference, opponent_name, win_streak\n",
    "#                                   overtimes, reg_season])\n",
    "\n",
    "#     schedule = pd.DataFrame(game_array, columns=['Season','TeamName','BoxscoreIndex'])\n",
    "#     schedule.to_csv(f'/seasons_dfs/{season}.csv')\n",
    "#     table= str(season)\n",
    "#     schedule.to_gbq(destination_table= 'schedules.'+ table,\n",
    "#                  chunksize= 500000,\n",
    "#                  project_id= gbq_proj_id,\n",
    "#                  if_exists='replace')"
   ]
  },
  {
   "cell_type": "markdown",
   "metadata": {},
   "source": [
    "### Creating a list of names for every teams schedue \n",
    "\n",
    "This list contains the season, team name and boxscore index. "
   ]
  },
  {
   "cell_type": "code",
   "execution_count": null,
   "metadata": {},
   "outputs": [],
   "source": [
    "temp_stat_2011 = pd.read_csv(\"2011.csv\")"
   ]
  },
  {
   "cell_type": "code",
   "execution_count": null,
   "metadata": {},
   "outputs": [],
   "source": [
    "season = 2011\n",
    "outname = f'{season}.csv'\n",
    "\n",
    "path = os.getcwd()\n",
    "outdir = f'{path}/seasons_dfs'\n",
    "if not os.path.exists(outdir):\n",
    "    os.mkdir(outdir)\n",
    "\n",
    "fullname = os.path.join(outdir, outname)    \n",
    "\n",
    "temp_stat_2011.to_csv(fullname)"
   ]
  },
  {
   "cell_type": "code",
   "execution_count": null,
   "metadata": {},
   "outputs": [],
   "source": [
    "list_of_schedules = []\n",
    "path = os.getcwd()\n",
    "file_list = os.listdir(f'{path}/seasons_dfs\")\n",
    "for file_name in file_list:\n",
    "    if 'csv' in file_name:\n",
    "        list_of_schedules.append(file_name)"
   ]
  },
  {
   "cell_type": "code",
   "execution_count": null,
   "metadata": {},
   "outputs": [],
   "source": [
    "list_of_schedules"
   ]
  },
  {
   "cell_type": "markdown",
   "metadata": {},
   "source": [
    "### Reading in each games boxscore\n",
    "\n",
    "Output: to google big query. \n",
    "\n",
    "Example boxscore is in example_box_score.csv"
   ]
  },
  {
   "cell_type": "code",
   "execution_count": null,
   "metadata": {},
   "outputs": [],
   "source": [
    "for season in list_of_schedules:\n",
    "    boxscores = None\n",
    "    error_df = None\n",
    "    schedule = pd.read_csv('./seasons_dfs/' + season)\n",
    "    for idx, row in schedule.iterrows():\n",
    "        try:\n",
    "            bs_index = row['boxscore_index']\n",
    "            ind_box = Boxscore(bs_index).dataframe\n",
    "\n",
    "            if boxscores is not None:\n",
    "                boxscores = pd.concat([boxscores,ind_box], axis = 0)\n",
    "            else:\n",
    "                boxscores = ind_box\n",
    "\n",
    "        except:\n",
    "\n",
    "            if error_df is not None:\n",
    "                error_df = pd.concat([error_df,row], axis = 0)\n",
    "            else:\n",
    "                error_df = row\n",
    "\n",
    "            continue\n",
    "\n",
    "    \n",
    "    \n",
    "    boxscores['away_free_throw_percentage'] = boxscores['away_free_throw_percentage'] * 100\n",
    "\n",
    "    cols = boxscores.drop(labels = ['date', 'location', 'losing_abbr', 'losing_name',\n",
    "                                    'winner', 'winning_abbr' , 'winning_name'], axis = 1)\n",
    "\n",
    "    for col in cols:\n",
    "        boxscores[col] = boxscores[col].apply(pd.to_numeric, downcast=\"float\")\n",
    "\n",
    "    boxscores['date'] = pd.to_datetime(boxscores['date'])\n",
    "\n",
    "    boxscores.to_gbq(destination_table= 'boxscores.'+ table,\n",
    "                     chunksize= 500000,\n",
    "                     project_id= gbq_proj_id,\n",
    "                     if_exists='replace')\n",
    "    \n",
    "    \n",
    "    table = f\"BS_{season}\"\n",
    "    \n",
    "    boxscores.to_csv(table + \".csv\")\n",
    "    \n",
    "    try:\n",
    "        \n",
    "        errodf.to_csv(table + \"error.csv\")\n",
    "    \n",
    "    except:\n",
    "        print(\"no error df\")\n",
    "\n",
    "\n",
    "    try:\n",
    "        \n",
    "        boxscores.to_gbq(destination_table= 'boxscores.'+ table,\n",
    "                         chunksize= 500000,\n",
    "                         project_id= gbq_proj_id,\n",
    "                         if_exists='replace')\n",
    "    \n",
    "    except:\n",
    "        print(\"No GBQ Upload :(\")\n",
    "        continue\n",
    "        \n",
    "#     errordf.to_gpq(destination_table= 'errors.boxscores',\n",
    "#                      chunksize= 500000,\n",
    "#                      project_id= gbq_proj_id,\n",
    "#                      if_exists='append')"
   ]
  },
  {
   "cell_type": "code",
   "execution_count": null,
   "metadata": {},
   "outputs": [],
   "source": [
    "boxscores.to_csv(\"boxscores_csv\")"
   ]
  },
  {
   "cell_type": "code",
   "execution_count": null,
   "metadata": {},
   "outputs": [],
   "source": [
    "boxscores['date']"
   ]
  },
  {
   "cell_type": "code",
   "execution_count": null,
   "metadata": {},
   "outputs": [],
   "source": [
    "table = f\"BS_2019\"\n",
    "\n",
    "boxscores.to_gbq(destination_table= 'boxscores.'+ table,\n",
    "                 chunksize= 500000,\n",
    "                 project_id= gbq_proj_id,\n",
    "                 if_exists='replace')"
   ]
  },
  {
   "cell_type": "code",
   "execution_count": null,
   "metadata": {},
   "outputs": [],
   "source": [
    "errordf.to_gpq(destination_table= 'boxscores.errors', \n",
    "               chunksize= 500000,\n",
    "               project_id= gbq_proj_id,\n",
    "               if_exists='append')"
   ]
  },
  {
   "cell_type": "markdown",
   "metadata": {},
   "source": [
    "### Load an individual season"
   ]
  },
  {
   "cell_type": "code",
   "execution_count": null,
   "metadata": {},
   "outputs": [],
   "source": [
    "schedule_df = pd.read_csv('schedule.2010.csv')\n",
    "schedule_df.head(1)"
   ]
  },
  {
   "cell_type": "code",
   "execution_count": null,
   "metadata": {},
   "outputs": [],
   "source": [
    "#pd.read_csv(\"./seasons_dfs/2011.csv\")"
   ]
  },
  {
   "cell_type": "code",
   "execution_count": 7,
   "metadata": {},
   "outputs": [
    {
     "name": "stderr",
     "output_type": "stream",
     "text": [
      "1it [00:18, 18.91s/it]\n"
     ]
    }
   ],
   "source": [
    "season = 2016 #change\n",
    "boxscores = None\n",
    "error_df = None\n",
    "\n",
    "individual_season = pd.read_csv(\"./seasons_dfs/2016.csv\") #change\n",
    "\n",
    "for idx, row in individual_season.iterrows():\n",
    "    try:\n",
    "        bs_index = row['boxscore_index']\n",
    "        ind_box = Boxscore(bs_index).dataframe\n",
    "\n",
    "        if boxscores is None:\n",
    "            boxscores = ind_box\n",
    "        else:\n",
    "            boxscores = pd.concat([boxscores,ind_box], axis = 0)\n",
    "\n",
    "    except:\n",
    "\n",
    "        if error_df is None:\n",
    "            error_df = row\n",
    "        else:\n",
    "            error_df = pd.concat([error_df,row], axis = 0)\n",
    "        \n",
    "        continue\n",
    "\n",
    "\n",
    "boxscores['away_free_throw_percentage'] = boxscores['away_free_throw_percentage'] * 100\n",
    "boxscores['home_free_throw_percentage'] = boxscores['home_free_throw_percentage'] * 100\n",
    "\n",
    "cols = boxscores.drop(labels = ['date', 'location', 'losing_abbr', 'losing_name',\n",
    "                                'winner', 'winning_abbr' , 'winning_name'], axis = 1)\n",
    "\n",
    "for col in cols:\n",
    "    boxscores[col] = boxscores[col].apply(pd.to_numeric, downcast=\"float\")\n",
    "\n",
    "boxscores['date'] = pd.to_datetime(boxscores['date'])       \n",
    "\n",
    "table = f\"BS_{season}\"\n",
    "    \n",
    "boxscores.to_csv(table + \".csv\")\n",
    "\n",
    "boxscores.to_gbq(destination_table= 'boxscores.'+ table,\n",
    "                 chunksize= 500000,\n",
    "                 project_id= gbq_proj_id,\n",
    "                 if_exists='replace')\n",
    "\n",
    "# errordf.to_gpq(destination_table= 'errors.boxscores',\n",
    "#                  chunksize= 500000,\n",
    "#                  project_id= gbq_proj_id,\n",
    "#                  if_exists='append')"
   ]
  },
  {
   "cell_type": "code",
   "execution_count": 6,
   "metadata": {},
   "outputs": [
    {
     "name": "stderr",
     "output_type": "stream",
     "text": [
      "1it [00:16, 16.92s/it]\n"
     ]
    }
   ],
   "source": [
    "table = f\"BS_{season}\"\n",
    "    \n",
    "boxscores.to_csv(table + \".csv\")\n",
    "\n",
    "boxscores.to_gbq(destination_table= 'boxscores.'+ table,\n",
    "                 chunksize= 500000,\n",
    "                 project_id= gbq_proj_id,\n",
    "                 if_exists='replace')"
   ]
  },
  {
   "cell_type": "code",
   "execution_count": null,
   "metadata": {},
   "outputs": [],
   "source": [
    "newbox = pd.read_csv('BS_2020.csv', index_col = 0)\n",
    "table = f\"BS_2020\""
   ]
  },
  {
   "cell_type": "code",
   "execution_count": null,
   "metadata": {},
   "outputs": [],
   "source": [
    "boxscores['away_free_throw_percentage'] = boxscores['away_free_throw_percentage'] * 100\n",
    "\n",
    "cols = boxscores.drop(labels = ['date', 'location', 'losing_abbr', 'losing_name',\n",
    "                                'winner', 'winning_abbr' , 'winning_name'], axis = 1)\n",
    "\n",
    "for col in cols:\n",
    "    boxscores[col] = boxscores[col].apply(pd.to_numeric, downcast=\"float\")\n",
    "\n",
    "boxscores['date'] = pd.to_datetime(boxscores['date'])\n",
    "\n",
    "boxscores['losing_name'] = boxscores['losing_name'].map(lambda x: x.rstrip('\\n\\t\\t\\t'))\n",
    "boxscores['losing_abbr'] = boxscores['losing_abbr'].map(lambda x: x.rstrip('\\n\\t\\t\\t'))\n",
    "boxscores['winning_name'] = boxscores['winning_name'].map(lambda x: x.rstrip('\\n\\t\\t\\t'))\n",
    "boxscores['winning_abbr'] = boxscores['winning_abbr'].map(lambda x: x.rstrip('\\n\\t\\t\\t'))\n",
    "\n",
    "boxscores.to_gbq(destination_table= 'boxscores.'+ table,\n",
    "                 chunksize= 500000,\n",
    "                 project_id= gbq_proj_id,\n",
    "                 if_exists='replace')"
   ]
  },
  {
   "cell_type": "code",
   "execution_count": null,
   "metadata": {},
   "outputs": [],
   "source": [
    "#newbox"
   ]
  },
  {
   "cell_type": "code",
   "execution_count": null,
   "metadata": {},
   "outputs": [],
   "source": [
    "newbox['away_free_throw_percentage'] = newbox['away_free_throw_percentage'] * 100\n",
    "\n",
    "cols = newbox.drop(labels = ['date', 'location', 'losing_abbr', 'losing_name', \n",
    "                             'winner', 'winning_abbr' , 'winning_name'], axis = 1)\n",
    "\n",
    "for col in cols:\n",
    "    newbox[col] = newbox[col].apply(pd.to_numeric, downcast=\"float\")\n",
    "\n",
    "newbox['date'] = pd.to_datetime(newbox['date'])\n",
    "\n",
    "newbox.to_gbq(destination_table= 'boxscores.'+ table,\n",
    "              chunksize= 500000,\n",
    "              project_id= gbq_proj_id,\n",
    "              if_exists='replace')"
   ]
  },
  {
   "cell_type": "code",
   "execution_count": null,
   "metadata": {},
   "outputs": [],
   "source": [
    "convert_dict = {'away_assist_percentage': float,\n",
    "                'away_assists': float,\n",
    "                'away_block_percentage': float,\n",
    "                'away_blocks': float,\n",
    "                'away_defensive_rating': float,\n",
    "                'away_defensive_rebound_percentage': float\n",
    "                'away_defensive_rebounds': float,\n",
    "                'away_effective_field_goal_percentage': float,\n",
    "                'away_field_goal_attempts': float,\n",
    "                'away_field_goal_percentage': float,\n",
    "                'away_field_goals': float,\n",
    "                'away_free_throw_attempt_rate': float,\n",
    "                'away_free_throw_attempts': float,\n",
    "                'away_free_throw_percentage': float,\n",
    "                'away_free_throws': float,\n",
    "                'away_losses': float,\n",
    "                'away_minutes_played': float,\n",
    "                'away_offensive_rating'\n",
    "               }"
   ]
  },
  {
   "cell_type": "code",
   "execution_count": null,
   "metadata": {},
   "outputs": [],
   "source": [
    "box_df = None\n",
    "#season is saving as global enviroment.\n",
    "\n",
    "\n",
    "\n",
    "for season in seasons:\n",
    "    season_df = schedule_df.loc[schedule_df.Season==season]\n",
    "    for idx, row in season_df.iterrows():\n",
    "        try:\n",
    "            box_link = row['BoxscoreIndex']\n",
    "            _df = Boxscore(box_link).dataframe\n",
    "\n",
    "            if box_df is not None:\n",
    "                box_df = pd.concat([box_df,_df],axis=0)\n",
    "            else:\n",
    "                box_df = _df\n",
    "        except:\n",
    "            continue\n",
    "box_df.to_csv(f'{season}_boxscores.csv',index=None)"
   ]
  },
  {
   "cell_type": "code",
   "execution_count": null,
   "metadata": {},
   "outputs": [],
   "source": [
    "for season in seasons:\n",
    "    print(seasons)"
   ]
  },
  {
   "cell_type": "code",
   "execution_count": null,
   "metadata": {},
   "outputs": [],
   "source": [
    "box_link = '2021-12-04-20-gonzaga'\n",
    "games = Boxscore(box_link).dataframe\n",
    "games.to_csv('example_box_score.csv')\n"
   ]
  },
  {
   "cell_type": "code",
   "execution_count": null,
   "metadata": {},
   "outputs": [],
   "source": [
    "season = 2011 # will run once for each season\n",
    "box_df = None\n",
    "schedule_df = pd.read_csv('./output/schedule.csv')\n",
    "season_df = schedule_df.loc[schedule_df.Season==season]\n",
    "for index, row in tqdm(season_df.iterrows()):\n",
    "    box_link = row['BoxscoreIndex']\n",
    "    _df = Boxscore(box_link).dataframe\n",
    "    \n",
    "    if box_df is not None:\n",
    "        box_df = pd.concat([box_df,_df],axis=0)\n",
    "    else:\n",
    "        box_df = _df\n",
    "box_df.to_csv('./output/{}_boxscores.csv'.format(season),index=None)"
   ]
  }
 ],
 "metadata": {
  "kernelspec": {
   "display_name": "Python 3",
   "language": "python",
   "name": "python3"
  },
  "language_info": {
   "codemirror_mode": {
    "name": "ipython",
    "version": 3
   },
   "file_extension": ".py",
   "mimetype": "text/x-python",
   "name": "python",
   "nbconvert_exporter": "python",
   "pygments_lexer": "ipython3",
   "version": "3.8.5"
  }
 },
 "nbformat": 4,
 "nbformat_minor": 4
}
