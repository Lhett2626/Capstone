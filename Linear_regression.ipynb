{
 "cells": [
  {
   "cell_type": "code",
   "execution_count": null,
   "metadata": {},
   "outputs": [],
   "source": [
    "import pandas_gbq\n",
    "from pandas.io import gbq\n",
    "from google.cloud import bigquery\n",
    "from google.oauth2 import service_account\n",
    "import pandas as pd\n",
    "import numpy as np\n",
    "import matplotlib.pyplot as plt\n",
    "from sklearn.linear_model import LinearRegression,Lasso,Ridge\n",
    "from sklearn.preprocessing import OneHotEncoder, PolynomialFeatures, StandardScaler\n",
    "from sklearn.compose import ColumnTransformer\n",
    "from sklearn.pipeline import Pipeline"
   ]
  },
  {
   "cell_type": "code",
   "execution_count": null,
   "metadata": {},
   "outputs": [],
   "source": [
    "service_path = \"/Users/liamhettinger/Documents/Spring_MSBA/Capstone/\"\n",
    "service_file =  \"capstone-ncaa-bball-a453a0e2a7f2.json\"\n",
    "gbq_proj_id = \"capstone-ncaa-bball\"\n",
    "gbq_dataset_id = \"\"\n",
    "\n",
    "private_key = service_path + service_file"
   ]
  },
  {
   "cell_type": "code",
   "execution_count": null,
   "metadata": {},
   "outputs": [],
   "source": [
    "credentials = service_account.Credentials.from_service_account_file(service_path + service_file)"
   ]
  },
  {
   "cell_type": "code",
   "execution_count": null,
   "metadata": {},
   "outputs": [],
   "source": [
    "client = bigquery.Client(credentials = credentials, project=gbq_proj_id)"
   ]
  },
  {
   "cell_type": "code",
   "execution_count": null,
   "metadata": {},
   "outputs": [],
   "source": [
    "sql =\"\"\"\n",
    "SELECT *\n",
    "FROM `capstone-ncaa-bball.boxscores.BS*`\n",
    "\"\"\""
   ]
  },
  {
   "cell_type": "code",
   "execution_count": null,
   "metadata": {},
   "outputs": [],
   "source": [
    "fulldf = pandas_gbq.read_gbq(sql, project_id=gbq_proj_id)"
   ]
  },
  {
   "cell_type": "code",
   "execution_count": null,
   "metadata": {},
   "outputs": [],
   "source": [
    "#dropping NAN values. These values are from d1 vs non-d1 games. They do not store advanced stats for these games.\n",
    "columns_no_rank = [elem for elem in list(fulldf.columns) if elem not in ['away_ranking','home_ranking']]\n",
    "fulldf.dropna(axis = 0, how='any', subset= columns_no_rank, inplace = True)"
   ]
  },
  {
   "cell_type": "code",
   "execution_count": null,
   "metadata": {},
   "outputs": [],
   "source": [
    "awaydf = fulldf[fulldf.columns.drop(list(fulldf.filter(regex='home')))]\n",
    "y_away = awaydf['away_points']\n",
    "X_away = awaydf.drop(['away_points','date','location','losing_abbr','losing_name','winner', 'winning_abbr', 'winning_name'], axis = 1)\n",
    "# catagorical features = 'away_ranking'"
   ]
  },
  {
   "cell_type": "code",
   "execution_count": null,
   "metadata": {},
   "outputs": [],
   "source": [
    "processor = ColumnTransformer(transformers = [\n",
    "    ('encoder', OneHotEncoder(), ['away_ranking'])],\n",
    "    remainder='passthrough') "
   ]
  },
  {
   "cell_type": "code",
   "execution_count": null,
   "metadata": {},
   "outputs": [],
   "source": [
    "pipe = Pipeline(steps=[\n",
    "    ('processor', processor),\n",
    "    ('reg', LinearRegression())\n",
    "])"
   ]
  },
  {
   "cell_type": "code",
   "execution_count": null,
   "metadata": {},
   "outputs": [],
   "source": [
    "pipe.fit(X_away, y_away)"
   ]
  },
  {
   "cell_type": "code",
   "execution_count": null,
   "metadata": {},
   "outputs": [],
   "source": [
    "numerical_away_x = X_away.drop('away_ranking', axis = 1)"
   ]
  },
  {
   "cell_type": "code",
   "execution_count": null,
   "metadata": {},
   "outputs": [],
   "source": [
    "feature_names = list(pipe['processor'].named_transformers_['encoder'].get_feature_names())+ list(numerical_away_x)\n",
    "#feature_names"
   ]
  },
  {
   "cell_type": "code",
   "execution_count": null,
   "metadata": {},
   "outputs": [],
   "source": [
    "coefficients = pipe['reg'].coef_\n",
    "coefficients"
   ]
  },
  {
   "cell_type": "code",
   "execution_count": null,
   "metadata": {},
   "outputs": [],
   "source": [
    "coeff_df = pd.DataFrame(coefficients, feature_names, columns=['coefficient'])\n",
    "coeff_df['coefficient'].sort_values(ascending = False)"
   ]
  },
  {
   "cell_type": "code",
   "execution_count": null,
   "metadata": {},
   "outputs": [],
   "source": [
    "plt.figure(figsize=(12,10))\n",
    "coeff_df.coefficient.plot(kind='barh',figsize=(12,10))"
   ]
  },
  {
   "cell_type": "code",
   "execution_count": null,
   "metadata": {},
   "outputs": [],
   "source": [
    "homedf = fulldf[fulldf.columns.drop(list(fulldf.filter(regex='away')))]\n",
    "Y_home = homedf['home_points']\n",
    "X_home = homedf.drop(['home_points','date','location','losing_abbr','losing_name','winner', 'winning_abbr', 'winning_name'], axis = 1)\n"
   ]
  },
  {
   "cell_type": "code",
   "execution_count": null,
   "metadata": {},
   "outputs": [],
   "source": [
    "fulldf.dropna(axis = 0, how='any', inplace = True)\n",
    "y = fulldf['away_points'] + fulldf['home_points']\n",
    "X = fulldf.drop(['away_points','home_points','date','location','losing_abbr','losing_name','winner', 'winning_abbr', 'winning_name'], axis = 1)"
   ]
  },
  {
   "cell_type": "code",
   "execution_count": null,
   "metadata": {},
   "outputs": [],
   "source": [
    "processor = ColumnTransformer(transformers = [\n",
    "    ('encoder', OneHotEncoder(), ['away_ranking', 'home_ranking'])],\n",
    "    remainder='passthrough') "
   ]
  },
  {
   "cell_type": "code",
   "execution_count": null,
   "metadata": {},
   "outputs": [],
   "source": [
    "pipe = Pipeline(steps=[\n",
    "    ('processor', processor),\n",
    "    ('reg', LinearRegression())\n",
    "])"
   ]
  },
  {
   "cell_type": "code",
   "execution_count": null,
   "metadata": {},
   "outputs": [],
   "source": [
    "pipe.fit(X, y)"
   ]
  },
  {
   "cell_type": "code",
   "execution_count": null,
   "metadata": {},
   "outputs": [],
   "source": [
    "numerical_full_x = X.drop(['away_ranking','home_ranking'], axis = 1)\n",
    "feature_names = list(pipe['processor'].named_transformers_['encoder'].get_feature_names())+ list(numerical_full_x)\n",
    "coefficients = pipe['reg'].coef_\n",
    "coeff_df = pd.DataFrame(coefficients, feature_names, columns=['coefficient'])\n",
    "coeff_df['coefficient'].sort_values(ascending = False)"
   ]
  },
  {
   "cell_type": "code",
   "execution_count": null,
   "metadata": {},
   "outputs": [],
   "source": [
    "plt.figure(figsize=(15,50))\n",
    "coeff_df.coefficient.plot(kind='barh',figsize=(12,10))"
   ]
  },
  {
   "cell_type": "code",
   "execution_count": null,
   "metadata": {},
   "outputs": [],
   "source": [
    "fulldf.corr()[['away_points','home_points']].sort_values('away_points', ascending = False).head(30)"
   ]
  },
  {
   "cell_type": "code",
   "execution_count": null,
   "metadata": {},
   "outputs": [],
   "source": [
    "top_30_cor_home = list(fulldf.corr()[['away_points','home_points']].sort_values('home_points', ascending = False).head(30)['home_points'].index)"
   ]
  },
  {
   "cell_type": "code",
   "execution_count": null,
   "metadata": {},
   "outputs": [],
   "source": [
    "fulldf.dropna(axis = 0, how='any', inplace = True)\n",
    "y = fulldf['home_points']\n",
    "X = fulldf[top_30_cor_home]"
   ]
  },
  {
   "cell_type": "code",
   "execution_count": null,
   "metadata": {},
   "outputs": [],
   "source": [
    "cat_features = ['away_ranking', 'home_ranking']\n",
    "num_cat_features = set(cat_features) & set(X.columns)"
   ]
  },
  {
   "cell_type": "code",
   "execution_count": null,
   "metadata": {},
   "outputs": [],
   "source": [
    "if len(num_cat_features) != 0:\n",
    "    processor = ColumnTransformer(transformers = [\n",
    "        ('encoder', OneHotEncoder(), ['away_ranking', 'home_ranking'])],\n",
    "        remainder='passthrough') \n",
    "else:\n",
    "    print('all good')"
   ]
  },
  {
   "cell_type": "code",
   "execution_count": null,
   "metadata": {},
   "outputs": [],
   "source": [
    "pipe = Pipeline(steps=[\n",
    "    ('processor', processor),\n",
    "    ('reg', LinearRegression())\n",
    "])"
   ]
  },
  {
   "cell_type": "code",
   "execution_count": null,
   "metadata": {},
   "outputs": [],
   "source": [
    "pipe.fit(X, y)"
   ]
  },
  {
   "cell_type": "code",
   "execution_count": null,
   "metadata": {},
   "outputs": [],
   "source": []
  },
  {
   "cell_type": "code",
   "execution_count": null,
   "metadata": {},
   "outputs": [],
   "source": []
  },
  {
   "cell_type": "code",
   "execution_count": null,
   "metadata": {},
   "outputs": [],
   "source": [
    "top_30_cor_away = list(fulldf.corr()[['away_points','home_points']].sort_values('away_points', ascending = False).head(30)['away_points'].index)"
   ]
  },
  {
   "cell_type": "code",
   "execution_count": null,
   "metadata": {},
   "outputs": [],
   "source": []
  },
  {
   "cell_type": "code",
   "execution_count": null,
   "metadata": {},
   "outputs": [],
   "source": []
  }
 ],
 "metadata": {
  "kernelspec": {
   "display_name": "Python 3",
   "language": "python",
   "name": "python3"
  },
  "language_info": {
   "codemirror_mode": {
    "name": "ipython",
    "version": 3
   },
   "file_extension": ".py",
   "mimetype": "text/x-python",
   "name": "python",
   "nbconvert_exporter": "python",
   "pygments_lexer": "ipython3",
   "version": "3.8.5"
  }
 },
 "nbformat": 4,
 "nbformat_minor": 4
}
